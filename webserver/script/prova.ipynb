{
 "cells": [
  {
   "cell_type": "code",
   "execution_count": 1,
   "metadata": {},
   "outputs": [
    {
     "name": "stderr",
     "output_type": "stream",
     "text": [
      "/Users/chiaranotturnogranieri/anaconda3/lib/python3.11/site-packages/pandas/core/arrays/masked.py:60: UserWarning: Pandas requires version '1.3.6' or newer of 'bottleneck' (version '1.3.5' currently installed).\n",
      "  from pandas.core import (\n"
     ]
    },
    {
     "name": "stdout",
     "output_type": "stream",
     "text": [
      "/Users/chiaranotturnogranieri/Downloads/notturno/deseq2/menopause_status/BRCA/result_BRCA.txt\n"
     ]
    },
    {
     "data": {
      "text/html": [
       "<div>\n",
       "<style scoped>\n",
       "    .dataframe tbody tr th:only-of-type {\n",
       "        vertical-align: middle;\n",
       "    }\n",
       "\n",
       "    .dataframe tbody tr th {\n",
       "        vertical-align: top;\n",
       "    }\n",
       "\n",
       "    .dataframe thead th {\n",
       "        text-align: right;\n",
       "    }\n",
       "</style>\n",
       "<table border=\"1\" class=\"dataframe\">\n",
       "  <thead>\n",
       "    <tr style=\"text-align: right;\">\n",
       "      <th></th>\n",
       "      <th>baseMean</th>\n",
       "      <th>log2FoldChange</th>\n",
       "      <th>lfcSE</th>\n",
       "      <th>stat</th>\n",
       "      <th>pvalue</th>\n",
       "      <th>padj</th>\n",
       "    </tr>\n",
       "  </thead>\n",
       "  <tbody>\n",
       "    <tr>\n",
       "      <th>ENSG00000000003.13</th>\n",
       "      <td>2956.583201</td>\n",
       "      <td>0.095691</td>\n",
       "      <td>0.074944</td>\n",
       "      <td>1.276842</td>\n",
       "      <td>0.201658</td>\n",
       "      <td>0.412726</td>\n",
       "    </tr>\n",
       "    <tr>\n",
       "      <th>ENSG00000000005.5</th>\n",
       "      <td>39.699168</td>\n",
       "      <td>0.792818</td>\n",
       "      <td>0.165121</td>\n",
       "      <td>4.801430</td>\n",
       "      <td>0.000002</td>\n",
       "      <td>0.000078</td>\n",
       "    </tr>\n",
       "    <tr>\n",
       "      <th>ENSG00000000419.11</th>\n",
       "      <td>2374.189763</td>\n",
       "      <td>-0.026758</td>\n",
       "      <td>0.044884</td>\n",
       "      <td>-0.596152</td>\n",
       "      <td>0.551074</td>\n",
       "      <td>0.736709</td>\n",
       "    </tr>\n",
       "    <tr>\n",
       "      <th>ENSG00000000457.12</th>\n",
       "      <td>1942.709326</td>\n",
       "      <td>0.031976</td>\n",
       "      <td>0.043603</td>\n",
       "      <td>0.733345</td>\n",
       "      <td>0.463348</td>\n",
       "      <td>0.670977</td>\n",
       "    </tr>\n",
       "    <tr>\n",
       "      <th>ENSG00000000460.15</th>\n",
       "      <td>831.738800</td>\n",
       "      <td>0.056923</td>\n",
       "      <td>0.057385</td>\n",
       "      <td>0.991955</td>\n",
       "      <td>0.321219</td>\n",
       "      <td>0.545345</td>\n",
       "    </tr>\n",
       "    <tr>\n",
       "      <th>...</th>\n",
       "      <td>...</td>\n",
       "      <td>...</td>\n",
       "      <td>...</td>\n",
       "      <td>...</td>\n",
       "      <td>...</td>\n",
       "      <td>...</td>\n",
       "    </tr>\n",
       "    <tr>\n",
       "      <th>ENSG00000281649.1</th>\n",
       "      <td>5000.372264</td>\n",
       "      <td>0.061907</td>\n",
       "      <td>0.048193</td>\n",
       "      <td>1.284578</td>\n",
       "      <td>0.198940</td>\n",
       "      <td>0.409246</td>\n",
       "    </tr>\n",
       "    <tr>\n",
       "      <th>ENSG00000281706.1</th>\n",
       "      <td>31.801407</td>\n",
       "      <td>-0.117814</td>\n",
       "      <td>0.101958</td>\n",
       "      <td>-1.155522</td>\n",
       "      <td>0.247877</td>\n",
       "      <td>0.465095</td>\n",
       "    </tr>\n",
       "    <tr>\n",
       "      <th>ENSG00000281896.1</th>\n",
       "      <td>52.679413</td>\n",
       "      <td>0.040473</td>\n",
       "      <td>0.088681</td>\n",
       "      <td>0.456391</td>\n",
       "      <td>0.648109</td>\n",
       "      <td>0.804569</td>\n",
       "    </tr>\n",
       "    <tr>\n",
       "      <th>ENSG00000281903.1</th>\n",
       "      <td>24.995482</td>\n",
       "      <td>0.118738</td>\n",
       "      <td>0.098264</td>\n",
       "      <td>1.208360</td>\n",
       "      <td>0.226909</td>\n",
       "      <td>0.441436</td>\n",
       "    </tr>\n",
       "    <tr>\n",
       "      <th>ENSG00000281912.1</th>\n",
       "      <td>99.162360</td>\n",
       "      <td>0.164209</td>\n",
       "      <td>0.070585</td>\n",
       "      <td>2.326389</td>\n",
       "      <td>0.019998</td>\n",
       "      <td>0.095789</td>\n",
       "    </tr>\n",
       "  </tbody>\n",
       "</table>\n",
       "<p>20343 rows × 6 columns</p>\n",
       "</div>"
      ],
      "text/plain": [
       "                       baseMean  log2FoldChange     lfcSE      stat    pvalue  \\\n",
       "ENSG00000000003.13  2956.583201        0.095691  0.074944  1.276842  0.201658   \n",
       "ENSG00000000005.5     39.699168        0.792818  0.165121  4.801430  0.000002   \n",
       "ENSG00000000419.11  2374.189763       -0.026758  0.044884 -0.596152  0.551074   \n",
       "ENSG00000000457.12  1942.709326        0.031976  0.043603  0.733345  0.463348   \n",
       "ENSG00000000460.15   831.738800        0.056923  0.057385  0.991955  0.321219   \n",
       "...                         ...             ...       ...       ...       ...   \n",
       "ENSG00000281649.1   5000.372264        0.061907  0.048193  1.284578  0.198940   \n",
       "ENSG00000281706.1     31.801407       -0.117814  0.101958 -1.155522  0.247877   \n",
       "ENSG00000281896.1     52.679413        0.040473  0.088681  0.456391  0.648109   \n",
       "ENSG00000281903.1     24.995482        0.118738  0.098264  1.208360  0.226909   \n",
       "ENSG00000281912.1     99.162360        0.164209  0.070585  2.326389  0.019998   \n",
       "\n",
       "                        padj  \n",
       "ENSG00000000003.13  0.412726  \n",
       "ENSG00000000005.5   0.000078  \n",
       "ENSG00000000419.11  0.736709  \n",
       "ENSG00000000457.12  0.670977  \n",
       "ENSG00000000460.15  0.545345  \n",
       "...                      ...  \n",
       "ENSG00000281649.1   0.409246  \n",
       "ENSG00000281706.1   0.465095  \n",
       "ENSG00000281896.1   0.804569  \n",
       "ENSG00000281903.1   0.441436  \n",
       "ENSG00000281912.1   0.095789  \n",
       "\n",
       "[20343 rows x 6 columns]"
      ]
     },
     "metadata": {},
     "output_type": "display_data"
    },
    {
     "data": {
      "text/html": [
       "<div>\n",
       "<style scoped>\n",
       "    .dataframe tbody tr th:only-of-type {\n",
       "        vertical-align: middle;\n",
       "    }\n",
       "\n",
       "    .dataframe tbody tr th {\n",
       "        vertical-align: top;\n",
       "    }\n",
       "\n",
       "    .dataframe thead th {\n",
       "        text-align: right;\n",
       "    }\n",
       "</style>\n",
       "<table border=\"1\" class=\"dataframe\">\n",
       "  <thead>\n",
       "    <tr style=\"text-align: right;\">\n",
       "      <th></th>\n",
       "      <th>baseMean</th>\n",
       "      <th>log2FoldChange</th>\n",
       "      <th>lfcSE</th>\n",
       "      <th>stat</th>\n",
       "      <th>pvalue</th>\n",
       "      <th>padj</th>\n",
       "    </tr>\n",
       "  </thead>\n",
       "  <tbody>\n",
       "    <tr>\n",
       "      <th>ENSG00000000003.13</th>\n",
       "      <td>2956.583201</td>\n",
       "      <td>0.095691</td>\n",
       "      <td>0.074944</td>\n",
       "      <td>1.276842</td>\n",
       "      <td>0.201658</td>\n",
       "      <td>0.384338</td>\n",
       "    </tr>\n",
       "    <tr>\n",
       "      <th>ENSG00000000005.5</th>\n",
       "      <td>39.699168</td>\n",
       "      <td>0.792818</td>\n",
       "      <td>0.165121</td>\n",
       "      <td>4.801430</td>\n",
       "      <td>0.000002</td>\n",
       "      <td>4.105927</td>\n",
       "    </tr>\n",
       "    <tr>\n",
       "      <th>ENSG00000000419.11</th>\n",
       "      <td>2374.189763</td>\n",
       "      <td>-0.026758</td>\n",
       "      <td>0.044884</td>\n",
       "      <td>-0.596152</td>\n",
       "      <td>0.551074</td>\n",
       "      <td>0.132704</td>\n",
       "    </tr>\n",
       "    <tr>\n",
       "      <th>ENSG00000000457.12</th>\n",
       "      <td>1942.709326</td>\n",
       "      <td>0.031976</td>\n",
       "      <td>0.043603</td>\n",
       "      <td>0.733345</td>\n",
       "      <td>0.463348</td>\n",
       "      <td>0.173292</td>\n",
       "    </tr>\n",
       "    <tr>\n",
       "      <th>ENSG00000000460.15</th>\n",
       "      <td>831.738800</td>\n",
       "      <td>0.056923</td>\n",
       "      <td>0.057385</td>\n",
       "      <td>0.991955</td>\n",
       "      <td>0.321219</td>\n",
       "      <td>0.263329</td>\n",
       "    </tr>\n",
       "    <tr>\n",
       "      <th>...</th>\n",
       "      <td>...</td>\n",
       "      <td>...</td>\n",
       "      <td>...</td>\n",
       "      <td>...</td>\n",
       "      <td>...</td>\n",
       "      <td>...</td>\n",
       "    </tr>\n",
       "    <tr>\n",
       "      <th>ENSG00000281649.1</th>\n",
       "      <td>5000.372264</td>\n",
       "      <td>0.061907</td>\n",
       "      <td>0.048193</td>\n",
       "      <td>1.284578</td>\n",
       "      <td>0.198940</td>\n",
       "      <td>0.388016</td>\n",
       "    </tr>\n",
       "    <tr>\n",
       "      <th>ENSG00000281706.1</th>\n",
       "      <td>31.801407</td>\n",
       "      <td>-0.117814</td>\n",
       "      <td>0.101958</td>\n",
       "      <td>-1.155522</td>\n",
       "      <td>0.247877</td>\n",
       "      <td>0.332459</td>\n",
       "    </tr>\n",
       "    <tr>\n",
       "      <th>ENSG00000281896.1</th>\n",
       "      <td>52.679413</td>\n",
       "      <td>0.040473</td>\n",
       "      <td>0.088681</td>\n",
       "      <td>0.456391</td>\n",
       "      <td>0.648109</td>\n",
       "      <td>0.094436</td>\n",
       "    </tr>\n",
       "    <tr>\n",
       "      <th>ENSG00000281903.1</th>\n",
       "      <td>24.995482</td>\n",
       "      <td>0.118738</td>\n",
       "      <td>0.098264</td>\n",
       "      <td>1.208360</td>\n",
       "      <td>0.226909</td>\n",
       "      <td>0.355133</td>\n",
       "    </tr>\n",
       "    <tr>\n",
       "      <th>ENSG00000281912.1</th>\n",
       "      <td>99.162360</td>\n",
       "      <td>0.164209</td>\n",
       "      <td>0.070585</td>\n",
       "      <td>2.326389</td>\n",
       "      <td>0.019998</td>\n",
       "      <td>1.018685</td>\n",
       "    </tr>\n",
       "  </tbody>\n",
       "</table>\n",
       "<p>20343 rows × 6 columns</p>\n",
       "</div>"
      ],
      "text/plain": [
       "                       baseMean  log2FoldChange     lfcSE      stat    pvalue  \\\n",
       "ENSG00000000003.13  2956.583201        0.095691  0.074944  1.276842  0.201658   \n",
       "ENSG00000000005.5     39.699168        0.792818  0.165121  4.801430  0.000002   \n",
       "ENSG00000000419.11  2374.189763       -0.026758  0.044884 -0.596152  0.551074   \n",
       "ENSG00000000457.12  1942.709326        0.031976  0.043603  0.733345  0.463348   \n",
       "ENSG00000000460.15   831.738800        0.056923  0.057385  0.991955  0.321219   \n",
       "...                         ...             ...       ...       ...       ...   \n",
       "ENSG00000281649.1   5000.372264        0.061907  0.048193  1.284578  0.198940   \n",
       "ENSG00000281706.1     31.801407       -0.117814  0.101958 -1.155522  0.247877   \n",
       "ENSG00000281896.1     52.679413        0.040473  0.088681  0.456391  0.648109   \n",
       "ENSG00000281903.1     24.995482        0.118738  0.098264  1.208360  0.226909   \n",
       "ENSG00000281912.1     99.162360        0.164209  0.070585  2.326389  0.019998   \n",
       "\n",
       "                        padj  \n",
       "ENSG00000000003.13  0.384338  \n",
       "ENSG00000000005.5   4.105927  \n",
       "ENSG00000000419.11  0.132704  \n",
       "ENSG00000000457.12  0.173292  \n",
       "ENSG00000000460.15  0.263329  \n",
       "...                      ...  \n",
       "ENSG00000281649.1   0.388016  \n",
       "ENSG00000281706.1   0.332459  \n",
       "ENSG00000281896.1   0.094436  \n",
       "ENSG00000281903.1   0.355133  \n",
       "ENSG00000281912.1   1.018685  \n",
       "\n",
       "[20343 rows x 6 columns]"
      ]
     },
     "metadata": {},
     "output_type": "display_data"
    }
   ],
   "source": [
    "import shutil\n",
    "import seaborn as sns\n",
    "import pandas as pd\n",
    "import matplotlib.pyplot as plt\n",
    "from scipy.stats import ranksums\n",
    "import os\n",
    "import sys\n",
    "\n",
    "import plotly.graph_objects as go \n",
    "import shutil\n",
    "import plotly.express as px\n",
    "import numpy as np \n",
    "\n",
    "\n",
    "\n",
    "dir_saveresults='/Users/chiaranotturnogranieri/Downloads/notturno/deseq2/menopause_status/BRCA'\n",
    "tumor='BRCA'\n",
    "\n",
    "path_result=os.path.join(dir_saveresults,'result_'+tumor+'.txt')\n",
    "print(path_result)\n",
    "df=pd.read_csv(path_result,sep=\"\\t\")\n",
    "display(df)\n",
    "\n",
    "df['padj']=np.log10(df['padj'])*(-1)\n",
    "display(df)\n",
    "#plt\n",
    "#plotly_volcano(df,dir_saveresults,tumor)\n"
   ]
  },
  {
   "cell_type": "code",
   "execution_count": null,
   "metadata": {},
   "outputs": [],
   "source": [
    "def plotly_volcano(df):\n",
    "    fig=go.Figure()\n",
    "    trace1=go.Scatter(\n",
    "        x=df['log2FoldChange'],\n",
    "        y=df['padj'],\n",
    "        mode='markers',\n",
    "        hovertext=list(df.index)\n",
    "    )\n",
    "    fig.add_trace(trace1)\n",
    "    fig.add_hline(y=-np.log10(0.05),line_dash=\"dash\")\n",
    "    fig.add_vline(x=1,line_dash=\"dash\")\n",
    "    fig.add_vline(x=-1,line_dash=\"dash\")\n",
    "    fig.show()\n",
    "   # fig.write_html(cartella+'/'+tumor+'.html')\n",
    "\n",
    "plotly_volcano(df)"
   ]
  },
  {
   "cell_type": "code",
   "execution_count": 2,
   "metadata": {},
   "outputs": [],
   "source": [
    "import pandas as pd\n",
    "import os \n",
    "import matplotlib.pyplot as plt\n",
    "import seaborn as sns\n",
    "import sys\n",
    "import subprocess\n",
    "from pathlib import Path\n",
    "import configparser\n",
    "from scipy.stats import ranksums\n",
    "import numpy as np\n",
    "from lifelines import KaplanMeierFitter\n",
    "from lifelines.statistics import logrank_test\n",
    "from lifelines.plotting import add_at_risk_counts\n",
    "from statsmodels.stats import multitest as multi\n",
    "import plotly.express as px\n",
    "import plotly.graph_objects as go \n",
    "import shutil\n",
    "\n",
    "#######################################################################################\n",
    "#                              Carica il file di configurazione                       #\n",
    "#######################################################################################\n",
    "\n",
    "config = configparser.ConfigParser()\n",
    "#script_dir = Path(__file__).parent\n",
    "\n",
    "# Costruisci il percorso relativo al file di configurazione\n",
    "config_file ='/Users/chiaranotturnogranieri/Desktop/progetti/git/web_app/webserver/webserver/conf.ini'\n",
    "\n",
    "config.read(config_file) \n",
    "#directory base\n",
    "output_data = config['Paths']['output_data']\n",
    "base_dir = config.get('Paths', 'base_dir', fallback='')\n",
    "\n",
    "# Costruisci i percorsi completi\n",
    "def get_full_path(relative_path):\n",
    "    return os.path.join(base_dir, relative_path)\n",
    "\n",
    "# Accesso ai valori e costruzione dei percorsi\n",
    "if 'miRNA' in config:\n",
    "    miRNA_name = get_full_path(config['miRNA']['name'])\n",
    "    miRNA_dataframe = get_full_path(config['miRNA']['dataframe'])\n",
    "\n",
    "if 'gene' in config:\n",
    "    gene_name_ENSG = get_full_path(config['gene']['name_ENSG'])\n",
    "    gene_dataframe = get_full_path(config['gene']['dataframe'])\n",
    "    gene_dataframe_FPKM = get_full_path(config['gene']['dataframe_FPKM'])\n",
    "\n",
    "if 'protein' in config:\n",
    "    protein_name = get_full_path(config['protein']['name'])\n",
    "    protein_dataframe = get_full_path(config['protein']['dataframe'])\n",
    "\n",
    "if 'clinical' in config:\n",
    "    clinical_data= get_full_path(config['clinical']['dati_clinici'])\n",
    "\n",
    "if 'os' in config:\n",
    "    os_pathway=get_full_path(config['OS']['os_pathway'])\n",
    "    \n"
   ]
  },
  {
   "cell_type": "code",
   "execution_count": 21,
   "metadata": {},
   "outputs": [
    {
     "name": "stdout",
     "output_type": "stream",
     "text": [
      "patient_status\n",
      "('ENSG00000270112.3', 'gene', 'gene_id', 1)\n",
      "-e 3p\n"
     ]
    },
    {
     "name": "stderr",
     "output_type": "stream",
     "text": [
      "/Users/chiaranotturnogranieri/anaconda3/lib/python3.11/site-packages/plotly/express/_core.py:1979: FutureWarning:\n",
      "\n",
      "When grouping with a length-1 list-like, you will need to pass a length-1 tuple to get_group in a future version of pandas. Pass `(name,)` instead of `name` to silence this warning.\n",
      "\n"
     ]
    },
    {
     "data": {
      "application/vnd.plotly.v1+json": {
       "config": {
        "plotlyServerURL": "https://plot.ly"
       },
       "data": [
        {
         "alignmentgroup": "True",
         "hovertemplate": "patient_status=%{x}<br>ENSG00000270112.3=%{y}<extra></extra>",
         "legendgroup": "Tumor",
         "marker": {
          "color": "#636efa"
         },
         "name": "Tumor",
         "notched": false,
         "offsetgroup": "Tumor",
         "orientation": "v",
         "showlegend": true,
         "type": "box",
         "x": [
          "Tumor",
          "Tumor",
          "Tumor",
          "Tumor",
          "Tumor",
          "Tumor",
          "Tumor",
          "Tumor",
          "Tumor",
          "Tumor",
          "Tumor",
          "Tumor",
          "Tumor",
          "Tumor",
          "Tumor",
          "Tumor",
          "Tumor",
          "Tumor",
          "Tumor",
          "Tumor",
          "Tumor",
          "Tumor",
          "Tumor",
          "Tumor",
          "Tumor",
          "Tumor",
          "Tumor",
          "Tumor",
          "Tumor",
          "Tumor",
          "Tumor",
          "Tumor",
          "Tumor",
          "Tumor",
          "Tumor",
          "Tumor"
         ],
         "x0": " ",
         "xaxis": "x",
         "y": [
          0,
          0,
          0,
          0,
          0,
          0.0368078149881999,
          0,
          0,
          0,
          0,
          0,
          0,
          0,
          0.00851969960624,
          0.00499889965258,
          0.00483807423458,
          0,
          0,
          0,
          0.00365483209588,
          0,
          0,
          0,
          0.0031407832360699,
          0.0045980482033,
          0.00370207611569,
          0,
          0,
          0,
          0.0256660366707,
          0.00534785954993,
          0,
          0,
          0.0091532671143,
          0.0094223305523299,
          0
         ],
         "y0": " ",
         "yaxis": "y"
        },
        {
         "alignmentgroup": "True",
         "hovertemplate": "patient_status=%{x}<br>ENSG00000270112.3=%{y}<extra></extra>",
         "legendgroup": "Ctrl",
         "marker": {
          "color": "#EF553B"
         },
         "name": "Ctrl",
         "notched": false,
         "offsetgroup": "Ctrl",
         "orientation": "v",
         "showlegend": true,
         "type": "box",
         "x": [
          "Ctrl",
          "Ctrl",
          "Ctrl",
          "Ctrl",
          "Ctrl",
          "Ctrl",
          "Ctrl",
          "Ctrl",
          "Ctrl"
         ],
         "x0": " ",
         "xaxis": "x",
         "y": [
          0,
          0,
          0,
          0,
          0,
          0,
          0,
          0,
          0
         ],
         "y0": " ",
         "yaxis": "y"
        }
       ],
       "layout": {
        "boxmode": "overlay",
        "legend": {
         "title": {
          "text": "patient_status"
         },
         "tracegroupgap": 0
        },
        "margin": {
         "t": 60
        },
        "template": {
         "data": {
          "bar": [
           {
            "error_x": {
             "color": "#2a3f5f"
            },
            "error_y": {
             "color": "#2a3f5f"
            },
            "marker": {
             "line": {
              "color": "#E5ECF6",
              "width": 0.5
             },
             "pattern": {
              "fillmode": "overlay",
              "size": 10,
              "solidity": 0.2
             }
            },
            "type": "bar"
           }
          ],
          "barpolar": [
           {
            "marker": {
             "line": {
              "color": "#E5ECF6",
              "width": 0.5
             },
             "pattern": {
              "fillmode": "overlay",
              "size": 10,
              "solidity": 0.2
             }
            },
            "type": "barpolar"
           }
          ],
          "carpet": [
           {
            "aaxis": {
             "endlinecolor": "#2a3f5f",
             "gridcolor": "white",
             "linecolor": "white",
             "minorgridcolor": "white",
             "startlinecolor": "#2a3f5f"
            },
            "baxis": {
             "endlinecolor": "#2a3f5f",
             "gridcolor": "white",
             "linecolor": "white",
             "minorgridcolor": "white",
             "startlinecolor": "#2a3f5f"
            },
            "type": "carpet"
           }
          ],
          "choropleth": [
           {
            "colorbar": {
             "outlinewidth": 0,
             "ticks": ""
            },
            "type": "choropleth"
           }
          ],
          "contour": [
           {
            "colorbar": {
             "outlinewidth": 0,
             "ticks": ""
            },
            "colorscale": [
             [
              0,
              "#0d0887"
             ],
             [
              0.1111111111111111,
              "#46039f"
             ],
             [
              0.2222222222222222,
              "#7201a8"
             ],
             [
              0.3333333333333333,
              "#9c179e"
             ],
             [
              0.4444444444444444,
              "#bd3786"
             ],
             [
              0.5555555555555556,
              "#d8576b"
             ],
             [
              0.6666666666666666,
              "#ed7953"
             ],
             [
              0.7777777777777778,
              "#fb9f3a"
             ],
             [
              0.8888888888888888,
              "#fdca26"
             ],
             [
              1,
              "#f0f921"
             ]
            ],
            "type": "contour"
           }
          ],
          "contourcarpet": [
           {
            "colorbar": {
             "outlinewidth": 0,
             "ticks": ""
            },
            "type": "contourcarpet"
           }
          ],
          "heatmap": [
           {
            "colorbar": {
             "outlinewidth": 0,
             "ticks": ""
            },
            "colorscale": [
             [
              0,
              "#0d0887"
             ],
             [
              0.1111111111111111,
              "#46039f"
             ],
             [
              0.2222222222222222,
              "#7201a8"
             ],
             [
              0.3333333333333333,
              "#9c179e"
             ],
             [
              0.4444444444444444,
              "#bd3786"
             ],
             [
              0.5555555555555556,
              "#d8576b"
             ],
             [
              0.6666666666666666,
              "#ed7953"
             ],
             [
              0.7777777777777778,
              "#fb9f3a"
             ],
             [
              0.8888888888888888,
              "#fdca26"
             ],
             [
              1,
              "#f0f921"
             ]
            ],
            "type": "heatmap"
           }
          ],
          "heatmapgl": [
           {
            "colorbar": {
             "outlinewidth": 0,
             "ticks": ""
            },
            "colorscale": [
             [
              0,
              "#0d0887"
             ],
             [
              0.1111111111111111,
              "#46039f"
             ],
             [
              0.2222222222222222,
              "#7201a8"
             ],
             [
              0.3333333333333333,
              "#9c179e"
             ],
             [
              0.4444444444444444,
              "#bd3786"
             ],
             [
              0.5555555555555556,
              "#d8576b"
             ],
             [
              0.6666666666666666,
              "#ed7953"
             ],
             [
              0.7777777777777778,
              "#fb9f3a"
             ],
             [
              0.8888888888888888,
              "#fdca26"
             ],
             [
              1,
              "#f0f921"
             ]
            ],
            "type": "heatmapgl"
           }
          ],
          "histogram": [
           {
            "marker": {
             "pattern": {
              "fillmode": "overlay",
              "size": 10,
              "solidity": 0.2
             }
            },
            "type": "histogram"
           }
          ],
          "histogram2d": [
           {
            "colorbar": {
             "outlinewidth": 0,
             "ticks": ""
            },
            "colorscale": [
             [
              0,
              "#0d0887"
             ],
             [
              0.1111111111111111,
              "#46039f"
             ],
             [
              0.2222222222222222,
              "#7201a8"
             ],
             [
              0.3333333333333333,
              "#9c179e"
             ],
             [
              0.4444444444444444,
              "#bd3786"
             ],
             [
              0.5555555555555556,
              "#d8576b"
             ],
             [
              0.6666666666666666,
              "#ed7953"
             ],
             [
              0.7777777777777778,
              "#fb9f3a"
             ],
             [
              0.8888888888888888,
              "#fdca26"
             ],
             [
              1,
              "#f0f921"
             ]
            ],
            "type": "histogram2d"
           }
          ],
          "histogram2dcontour": [
           {
            "colorbar": {
             "outlinewidth": 0,
             "ticks": ""
            },
            "colorscale": [
             [
              0,
              "#0d0887"
             ],
             [
              0.1111111111111111,
              "#46039f"
             ],
             [
              0.2222222222222222,
              "#7201a8"
             ],
             [
              0.3333333333333333,
              "#9c179e"
             ],
             [
              0.4444444444444444,
              "#bd3786"
             ],
             [
              0.5555555555555556,
              "#d8576b"
             ],
             [
              0.6666666666666666,
              "#ed7953"
             ],
             [
              0.7777777777777778,
              "#fb9f3a"
             ],
             [
              0.8888888888888888,
              "#fdca26"
             ],
             [
              1,
              "#f0f921"
             ]
            ],
            "type": "histogram2dcontour"
           }
          ],
          "mesh3d": [
           {
            "colorbar": {
             "outlinewidth": 0,
             "ticks": ""
            },
            "type": "mesh3d"
           }
          ],
          "parcoords": [
           {
            "line": {
             "colorbar": {
              "outlinewidth": 0,
              "ticks": ""
             }
            },
            "type": "parcoords"
           }
          ],
          "pie": [
           {
            "automargin": true,
            "type": "pie"
           }
          ],
          "scatter": [
           {
            "fillpattern": {
             "fillmode": "overlay",
             "size": 10,
             "solidity": 0.2
            },
            "type": "scatter"
           }
          ],
          "scatter3d": [
           {
            "line": {
             "colorbar": {
              "outlinewidth": 0,
              "ticks": ""
             }
            },
            "marker": {
             "colorbar": {
              "outlinewidth": 0,
              "ticks": ""
             }
            },
            "type": "scatter3d"
           }
          ],
          "scattercarpet": [
           {
            "marker": {
             "colorbar": {
              "outlinewidth": 0,
              "ticks": ""
             }
            },
            "type": "scattercarpet"
           }
          ],
          "scattergeo": [
           {
            "marker": {
             "colorbar": {
              "outlinewidth": 0,
              "ticks": ""
             }
            },
            "type": "scattergeo"
           }
          ],
          "scattergl": [
           {
            "marker": {
             "colorbar": {
              "outlinewidth": 0,
              "ticks": ""
             }
            },
            "type": "scattergl"
           }
          ],
          "scattermapbox": [
           {
            "marker": {
             "colorbar": {
              "outlinewidth": 0,
              "ticks": ""
             }
            },
            "type": "scattermapbox"
           }
          ],
          "scatterpolar": [
           {
            "marker": {
             "colorbar": {
              "outlinewidth": 0,
              "ticks": ""
             }
            },
            "type": "scatterpolar"
           }
          ],
          "scatterpolargl": [
           {
            "marker": {
             "colorbar": {
              "outlinewidth": 0,
              "ticks": ""
             }
            },
            "type": "scatterpolargl"
           }
          ],
          "scatterternary": [
           {
            "marker": {
             "colorbar": {
              "outlinewidth": 0,
              "ticks": ""
             }
            },
            "type": "scatterternary"
           }
          ],
          "surface": [
           {
            "colorbar": {
             "outlinewidth": 0,
             "ticks": ""
            },
            "colorscale": [
             [
              0,
              "#0d0887"
             ],
             [
              0.1111111111111111,
              "#46039f"
             ],
             [
              0.2222222222222222,
              "#7201a8"
             ],
             [
              0.3333333333333333,
              "#9c179e"
             ],
             [
              0.4444444444444444,
              "#bd3786"
             ],
             [
              0.5555555555555556,
              "#d8576b"
             ],
             [
              0.6666666666666666,
              "#ed7953"
             ],
             [
              0.7777777777777778,
              "#fb9f3a"
             ],
             [
              0.8888888888888888,
              "#fdca26"
             ],
             [
              1,
              "#f0f921"
             ]
            ],
            "type": "surface"
           }
          ],
          "table": [
           {
            "cells": {
             "fill": {
              "color": "#EBF0F8"
             },
             "line": {
              "color": "white"
             }
            },
            "header": {
             "fill": {
              "color": "#C8D4E3"
             },
             "line": {
              "color": "white"
             }
            },
            "type": "table"
           }
          ]
         },
         "layout": {
          "annotationdefaults": {
           "arrowcolor": "#2a3f5f",
           "arrowhead": 0,
           "arrowwidth": 1
          },
          "autotypenumbers": "strict",
          "coloraxis": {
           "colorbar": {
            "outlinewidth": 0,
            "ticks": ""
           }
          },
          "colorscale": {
           "diverging": [
            [
             0,
             "#8e0152"
            ],
            [
             0.1,
             "#c51b7d"
            ],
            [
             0.2,
             "#de77ae"
            ],
            [
             0.3,
             "#f1b6da"
            ],
            [
             0.4,
             "#fde0ef"
            ],
            [
             0.5,
             "#f7f7f7"
            ],
            [
             0.6,
             "#e6f5d0"
            ],
            [
             0.7,
             "#b8e186"
            ],
            [
             0.8,
             "#7fbc41"
            ],
            [
             0.9,
             "#4d9221"
            ],
            [
             1,
             "#276419"
            ]
           ],
           "sequential": [
            [
             0,
             "#0d0887"
            ],
            [
             0.1111111111111111,
             "#46039f"
            ],
            [
             0.2222222222222222,
             "#7201a8"
            ],
            [
             0.3333333333333333,
             "#9c179e"
            ],
            [
             0.4444444444444444,
             "#bd3786"
            ],
            [
             0.5555555555555556,
             "#d8576b"
            ],
            [
             0.6666666666666666,
             "#ed7953"
            ],
            [
             0.7777777777777778,
             "#fb9f3a"
            ],
            [
             0.8888888888888888,
             "#fdca26"
            ],
            [
             1,
             "#f0f921"
            ]
           ],
           "sequentialminus": [
            [
             0,
             "#0d0887"
            ],
            [
             0.1111111111111111,
             "#46039f"
            ],
            [
             0.2222222222222222,
             "#7201a8"
            ],
            [
             0.3333333333333333,
             "#9c179e"
            ],
            [
             0.4444444444444444,
             "#bd3786"
            ],
            [
             0.5555555555555556,
             "#d8576b"
            ],
            [
             0.6666666666666666,
             "#ed7953"
            ],
            [
             0.7777777777777778,
             "#fb9f3a"
            ],
            [
             0.8888888888888888,
             "#fdca26"
            ],
            [
             1,
             "#f0f921"
            ]
           ]
          },
          "colorway": [
           "#636efa",
           "#EF553B",
           "#00cc96",
           "#ab63fa",
           "#FFA15A",
           "#19d3f3",
           "#FF6692",
           "#B6E880",
           "#FF97FF",
           "#FECB52"
          ],
          "font": {
           "color": "#2a3f5f"
          },
          "geo": {
           "bgcolor": "white",
           "lakecolor": "white",
           "landcolor": "#E5ECF6",
           "showlakes": true,
           "showland": true,
           "subunitcolor": "white"
          },
          "hoverlabel": {
           "align": "left"
          },
          "hovermode": "closest",
          "mapbox": {
           "style": "light"
          },
          "paper_bgcolor": "white",
          "plot_bgcolor": "#E5ECF6",
          "polar": {
           "angularaxis": {
            "gridcolor": "white",
            "linecolor": "white",
            "ticks": ""
           },
           "bgcolor": "#E5ECF6",
           "radialaxis": {
            "gridcolor": "white",
            "linecolor": "white",
            "ticks": ""
           }
          },
          "scene": {
           "xaxis": {
            "backgroundcolor": "#E5ECF6",
            "gridcolor": "white",
            "gridwidth": 2,
            "linecolor": "white",
            "showbackground": true,
            "ticks": "",
            "zerolinecolor": "white"
           },
           "yaxis": {
            "backgroundcolor": "#E5ECF6",
            "gridcolor": "white",
            "gridwidth": 2,
            "linecolor": "white",
            "showbackground": true,
            "ticks": "",
            "zerolinecolor": "white"
           },
           "zaxis": {
            "backgroundcolor": "#E5ECF6",
            "gridcolor": "white",
            "gridwidth": 2,
            "linecolor": "white",
            "showbackground": true,
            "ticks": "",
            "zerolinecolor": "white"
           }
          },
          "shapedefaults": {
           "line": {
            "color": "#2a3f5f"
           }
          },
          "ternary": {
           "aaxis": {
            "gridcolor": "white",
            "linecolor": "white",
            "ticks": ""
           },
           "baxis": {
            "gridcolor": "white",
            "linecolor": "white",
            "ticks": ""
           },
           "bgcolor": "#E5ECF6",
           "caxis": {
            "gridcolor": "white",
            "linecolor": "white",
            "ticks": ""
           }
          },
          "title": {
           "x": 0.05
          },
          "xaxis": {
           "automargin": true,
           "gridcolor": "white",
           "linecolor": "white",
           "ticks": "",
           "title": {
            "standoff": 15
           },
           "zerolinecolor": "white",
           "zerolinewidth": 2
          },
          "yaxis": {
           "automargin": true,
           "gridcolor": "white",
           "linecolor": "white",
           "ticks": "",
           "title": {
            "standoff": 15
           },
           "zerolinecolor": "white",
           "zerolinewidth": 2
          }
         }
        },
        "xaxis": {
         "anchor": "y",
         "categoryarray": [
          "Tumor",
          "Ctrl"
         ],
         "categoryorder": "array",
         "domain": [
          0,
          1
         ],
         "title": {
          "text": "patient_status"
         }
        },
        "yaxis": {
         "anchor": "x",
         "domain": [
          0,
          1
         ],
         "title": {
          "text": "ENSG00000270112.3"
         }
        }
       }
      }
     },
     "metadata": {},
     "output_type": "display_data"
    },
    {
     "name": "stdout",
     "output_type": "stream",
     "text": [
      "0.12545785464424303\n"
     ]
    }
   ],
   "source": [
    "\n",
    "def what_is_my_object_gene(gene):\n",
    "    #implementato per prendere in input anche l'ENSG inserito senza versione.\n",
    "    if 'ENSG' in gene:\n",
    "        df_ensg= pd.read_csv(gene_name_ENSG,sep='\\t')\n",
    "    \n",
    "        result_index = df_ensg[(df_ensg['gene_id_version'] == gene) | (df_ensg['gene_id'] == gene)].index\n",
    "        if not result_index.empty:\n",
    "            gene_version=df_ensg.loc[result_index[0],'gene_id_version']\n",
    "\n",
    "            return (gene_version,'gene','gene_id',int(result_index[0]))\n",
    "        else:\n",
    "            return(0)\n",
    "\n",
    "    if gene in open(protein_name).read().split(\"\\n\"):\n",
    "        return(gene,'protein','peptide_target',protein_dataframe)\n",
    "\n",
    "    if gene in open(miRNA_name).read().split(\"\\n\"):\n",
    "        return (gene,'miRNA','miRNA_ID',miRNA_dataframe)\n",
    "\n",
    "    else:\n",
    "        return(0)\n",
    "    \n",
    "def open_df_gene(input,tumor,feature,cartella):\n",
    "    #se patient status non possiamo prendere il dataframe_FPKM_tumor perche non abbiamo i controlli cosi. quindi prendiamo il dataset totale e poi facciamo la selezione dei campioni a valle\n",
    "    if feature == 'patient_status':\n",
    "        print(input)\n",
    "        # df_ensg= pd.read_csv(gene_name_ENSG,sep='\\t')\n",
    "        # display(df_ensg)\n",
    "        # listageni=list(df_ensg['gene_id_version'])\n",
    "        # print(listageni[listageni.index(gene)])\n",
    "        posizione=\"-e \"+str(input[3]+2)+\"p\"\n",
    "\n",
    "        #posizione=str(input[3])\n",
    "        print(posizione)\n",
    "        #creiamo un dataframe piu piccolo dove c'è solo la riga del gene che è stato selezionato\n",
    "        path=cartella+'/'+str(input[0])+\"_df.txt\"\n",
    "        out_file=open(path,\"w\")\n",
    "        subprocess.run([\"sed\", \"-n\",  \"-e 1p\",posizione, gene_dataframe], stdout=out_file)\n",
    "        \n",
    "        return(path)\n",
    "                \n",
    "    else:\n",
    "        path_df=\"Dataframe_FPKM_\"+tumor+\".csv\"\n",
    "        path=os.path.join(gene_dataframe_FPKM,path_df)\n",
    "        return(path)\n",
    "\n",
    "\n",
    "\n",
    "def plotly_plot(feature,d, gene,cartella,ogg):\n",
    "        fig = px.scatter(x=range(10), y=range(10))\n",
    "        fig=px.box(d,y=gene,x=feature,color=feature) #points = 'all'\n",
    "        if ogg[1]== \"miRNA\":\n",
    "                fig.update_layout(yaxis_type=\"log\")\n",
    "      \n",
    "        fig.write_html(cartella+'/'+gene+'_'+feature+'.html')\n",
    "        fig.show()###\n",
    "\n",
    "\n",
    "def ranksum_test(gene,d,feature):\n",
    "    #ranksum test per p-value\n",
    "    p=list(set(d[feature]))\n",
    "    \n",
    "    df1_mask=d[feature]== p[0]\n",
    "    dp0=d[df1_mask]\n",
    "    \n",
    "    df1_mask=d[feature]== p[1]\n",
    "    dp1=d[df1_mask]\n",
    "\n",
    "    w, p = ranksums(list(dp0[gene]), list(dp1[gene]))\n",
    "\n",
    "    return(p)\n",
    "\n",
    "\n",
    "\n",
    "\n",
    "\n",
    "def df_feature(ogg, tumor, feature):\n",
    "    x=pd.read_csv(clinical_data)\n",
    "    df1_mask=x['acronym']== tumor\n",
    "    dfclinical=x[df1_mask]\n",
    "\n",
    "    if feature==\"age_at_initial_pathologic_diagnosis\":\n",
    "       # dfclinical = dfclinical.dropna(subset=['age_at_initial_pathologic_diagnosis'])\n",
    "        dfclinical[feature] = pd.to_numeric(dfclinical[feature], errors='coerce').astype('Int64')\n",
    "\n",
    "\n",
    "        median=dfclinical[feature].median()\n",
    "        \n",
    "        lista_age=[]\n",
    "        for ele in dfclinical[feature]:\n",
    "            \n",
    "            ele=int(ele)\n",
    "            if ele<=median:\n",
    "                lista_age.append(\"under\")\n",
    "            else:\n",
    "                lista_age.append(\"over\")\n",
    "                \n",
    "        dfclinical=dfclinical.rename(columns={feature:\"age\"})\n",
    "        dfclinical[feature]=lista_age\n",
    "\n",
    "    return (dfclinical)\n",
    "    \n",
    "\n",
    "def crealista(dffeat,df,feature):\n",
    "    #lista di samples di cui abbiamo le features e dati di espressione\n",
    "    \n",
    "    #caso specifico se abbiamo feature:patient_status\n",
    "    if feature=='patient_status':\n",
    "        lista=list(dffeat['bcr_patient_barcode'])\n",
    "        listaf01=[]\n",
    "        listaf=[]\n",
    "        for ele in df.columns:\n",
    "            if ele[:-4] in lista and ele[-1]!=\"x\" and ele[-1]!='y':\n",
    "                listaf01.append(ele)\n",
    "\n",
    "        \n",
    "        return listaf01\n",
    "\n",
    "    #altrimenti con tutte le altre feature:\n",
    "    else:\n",
    "        lista=list(dffeat['bcr_patient_barcode'])\n",
    "        \n",
    "        listaf01=[]\n",
    "        listaf=[]\n",
    "        \n",
    "        for ele in df.columns:\n",
    "            if ele[:-4] in lista and ele[-1]!=\"x\" and ele[-1]!='y':\n",
    "                if int(ele[-3:-1])<11:\n",
    "                    if ele[:-4] not in listaf:\n",
    "                        listaf.append(ele[:-4])\n",
    "                        listaf01.append(ele)\n",
    "\n",
    "        if len(listaf)==len(listaf01):\n",
    "            return listaf, listaf01\n",
    "        else:\n",
    "            return 0\n",
    "\n",
    "\n",
    "import pandas as pd\n",
    "import os \n",
    "import sys\n",
    "import subprocess\n",
    "\n",
    "\n",
    "if __name__ == \"__main__\":\n",
    "    #parametri in input:\n",
    "    gene='ENSG00000270112.3'\n",
    "    tumor= 'CHOL'\n",
    "    feature= 'patient_status'\n",
    "    cartella='/Users/chiaranotturnogranieri/Desktop/progetti/git/web_app/webserver/rolls/static/media/saveanalisi/prova'\n",
    "\n",
    "    #df di interesse:\n",
    "    ogg=open_dataframe(gene,tumor,feature,cartella)\n",
    "   \n",
    "    if ogg!=0:\n",
    "        gene=ogg[2]\n",
    "        df=ogg[0]\n",
    "        dffeat=df_feature(ogg[1], tumor, feature) #df features\n",
    "        \n",
    "        if feature== 'patient_status':\n",
    "            listaf0= crealista(dffeat, df,feature)\n",
    "            \n",
    "            lista_exp=[]#lista valori espressione\n",
    "            lista_feature=[]\n",
    "            for ele in df[listaf0]:\n",
    "                lista_exp.append(df.loc[gene,ele])\n",
    "                if int(ele[-3:-1])<11:\n",
    "                    lista_feature.append('Tumor')\n",
    "                else:\n",
    "                    lista_feature.append('Ctrl')\n",
    "\n",
    "            #controllo di avere sia dati tumorali che di controllo\n",
    "            t=0\n",
    "            c=0\n",
    "            for ele in lista_feature:\n",
    "                if ele== 'Tumor':\n",
    "                    t+=1\n",
    "                else:\n",
    "                    c+=1\n",
    "            if t==0 or c==0:\n",
    "                print('non ci sono abbastanza dati')               \n",
    "            \n",
    "            \n",
    "            \n",
    "            d=pd.DataFrame({'nome01':listaf0, gene: lista_exp, feature: lista_feature})\n",
    "        \n",
    "        \n",
    "        else:\n",
    "            listaf, listaf01= crealista(dffeat, df,feature)\n",
    "            dffeat=dffeat[['bcr_patient_barcode',feature]]\n",
    "\n",
    "            #creo un dframe finale\n",
    "            dframe=pd.DataFrame({'nome01':listaf01, 'bcr_patient_barcode':listaf})\n",
    "            d= dframe.merge(dffeat)\n",
    "\n",
    "            lista_exp=[] #lista valori espressione\n",
    "            for ele in d['nome01']:\n",
    "                lista_exp.append(df.loc[gene,ele])\n",
    "\n",
    "            d[gene]=lista_exp\n",
    "\n",
    "        #plt\n",
    "        plotly_plot(feature,d, gene,cartella,ogg)\n",
    "\n",
    "        #p-value\n",
    "        print(ranksum_test(gene,d,feature))\n",
    "\n",
    "       \n"
   ]
  }
 ],
 "metadata": {
  "kernelspec": {
   "display_name": "base",
   "language": "python",
   "name": "python3"
  },
  "language_info": {
   "codemirror_mode": {
    "name": "ipython",
    "version": 3
   },
   "file_extension": ".py",
   "mimetype": "text/x-python",
   "name": "python",
   "nbconvert_exporter": "python",
   "pygments_lexer": "ipython3",
   "version": "3.11.3"
  }
 },
 "nbformat": 4,
 "nbformat_minor": 2
}
